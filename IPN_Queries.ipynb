{
 "cells": [
  {
   "cell_type": "markdown",
   "metadata": {},
   "source": [
    "### IPN Troubleshooting Notebook"
   ]
  },
  {
   "cell_type": "markdown",
   "metadata": {},
   "source": [
    "#### Merchant's IPN Status\n",
    "IPN delivery failures to merchant endpoints are updated in table \"wipn_merchant_status\" QNOTIF DB.\n",
    "The status-key here is as follows:\n",
    "* O: Normal\n",
    "* B: Blocked\n",
    "* D: Disabled\n",
    "\n",
    "The status here depends on failure_count. <br> If everything is fine and the IPNs are working as expected for the merchant, the status will be 'O'. <br>\n",
    "When the failure count reaches a threshold of 100, the status automatically updates from Normal ('O') to Blocked ('B'). At this point, no new IPNs will be sent to the merchant, but only retries will happen. <br>\n",
    "When the failure_count reaches under 95, the status will automatically be set to 'O' from 'B'.<br>\n",
    "If the status stays as 'B' for 5 consecutive days, it will change to Disabled ('D'), which means that IPNs will be no longer sent to merchant's endpoint but would directly be archived to whttp_msg_queue_archive table. <br>\n",
    "*Note:* Enabling the IPN in Admin will update the Status here."
   ]
  },
  {
   "cell_type": "code",
   "execution_count": 15,
   "metadata": {
    "collapsed": false,
    "tags": [
     "injected by THREDDS browser"
    ]
   },
   "outputs": [
    {
     "data": {
      "application/vnd.jupyter.widget-view+json": {
       "model_id": "8c0d829b81bb46fe8e778e283c55ed78",
       "version_major": 2,
       "version_minor": 0
      },
      "text/plain": [
       "HTML(value='')"
      ]
     },
     "metadata": {},
     "output_type": "display_data"
    },
    {
     "data": {
      "application/vnd.jupyter.widget-view+json": {
       "model_id": "656d45d3fe5e48ddb83081a58f49a9fc",
       "version_major": 2,
       "version_minor": 0
      },
      "text/plain": [
       "HTML(value='')"
      ]
     },
     "metadata": {},
     "output_type": "display_data"
    },
    {
     "data": {
      "text/html": [
       "<table>\n",
       "    <tr>\n",
       "        <th>ID</th>\n",
       "        <th>MERCHANT</th>\n",
       "        <th>TYPE</th>\n",
       "        <th>STATUS</th>\n",
       "        <th>FAILURE_COUNT</th>\n",
       "        <th>PYPL_TIME_TOUCHED</th>\n",
       "        <th>TIME_DISABLED</th>\n",
       "        <th>DISABLED_BY</th>\n",
       "        <th>WARNING_COUNT</th>\n",
       "    </tr>\n",
       "    <tr>\n",
       "        <td>11002733</td>\n",
       "        <td>1897159474893678550</td>\n",
       "        <td>A</td>\n",
       "        <td>D</td>\n",
       "        <td>100</td>\n",
       "        <td>1599629576</td>\n",
       "        <td>1599629576</td>\n",
       "        <td>B</td>\n",
       "        <td>13</td>\n",
       "    </tr>\n",
       "</table>"
      ],
      "text/plain": [
       "[[11002733,\n",
       "  '1897159474893678550',\n",
       "  'A',\n",
       "  'D',\n",
       "  100,\n",
       "  1599629576,\n",
       "  1599629576,\n",
       "  'B',\n",
       "  13]]"
      ]
     },
     "execution_count": 15,
     "metadata": {},
     "output_type": "execute_result"
    },
    {
     "data": {
      "application/vnd.jupyter.widget-view+json": {
       "model_id": "eae3ac61b25546eb8d94729d5f538e1b",
       "version_major": 2,
       "version_minor": 0
      },
      "text/plain": [
       "HTML(value='')"
      ]
     },
     "metadata": {},
     "output_type": "display_data"
    }
   ],
   "source": [
    "%%oracle -db QNOTIF\n",
    "select * from QTOCDBA.WIPN_MERCHANT_STATUS where merchant = '1897159474893678550'"
   ]
  },
  {
   "cell_type": "markdown",
   "metadata": {},
   "source": [
    "#### The current IPN queue for the merchant is present in the WHTTP_MSG_QUEUE table\n",
    "Just using the merchant ID will not be enough to query this table, as it may result in a large number of rows. <br>\n",
    "To narrow down the results, use the decrypted message ID, or Transaction ID, or Correlation ID. <br>"
   ]
  },
  {
   "cell_type": "markdown",
   "metadata": {},
   "source": [
    "##### Search by Merchant Account Number and Decrypted Message ID (that we can get from Admin)"
   ]
  },
  {
   "cell_type": "code",
   "execution_count": 24,
   "metadata": {
    "collapsed": false,
    "tags": [
     "injected by THREDDS browser"
    ]
   },
   "outputs": [
    {
     "data": {
      "application/vnd.jupyter.widget-view+json": {
       "model_id": "afe1a4a9672e4710af20a792cc286632",
       "version_major": 2,
       "version_minor": 0
      },
      "text/plain": [
       "HTML(value='')"
      ]
     },
     "metadata": {},
     "output_type": "display_data"
    },
    {
     "data": {
      "application/vnd.jupyter.widget-view+json": {
       "model_id": "118ad4382aed46218ca40d33dda74ff4",
       "version_major": 2,
       "version_minor": 0
      },
      "text/plain": [
       "HTML(value='')"
      ]
     },
     "metadata": {},
     "output_type": "display_data"
    },
    {
     "data": {
      "text/html": [
       "<table>\n",
       "    <tr>\n",
       "        <th>PARTITION_ID</th>\n",
       "        <th>ID</th>\n",
       "        <th>TYPE</th>\n",
       "        <th>FLAGS</th>\n",
       "        <th>STATUS</th>\n",
       "        <th>TARGET</th>\n",
       "        <th>PRIORITY</th>\n",
       "        <th>TIME_CREATED</th>\n",
       "        <th>TIME_SEND</th>\n",
       "        <th>TIME_LAST</th>\n",
       "        <th>RETRY_INTERVAL</th>\n",
       "        <th>RETRY_COUNT</th>\n",
       "        <th>RETRY_MAX</th>\n",
       "        <th>HTTP_TYPE</th>\n",
       "        <th>HTTP_FLAGS</th>\n",
       "        <th>HTTP_URL</th>\n",
       "        <th>HTTP_PROXY</th>\n",
       "        <th>HTTP_HEADERS</th>\n",
       "        <th>HTTP_BODY</th>\n",
       "        <th>HTTP_RESULT</th>\n",
       "        <th>HTTP_REPLY</th>\n",
       "        <th>ACCOUNT_NUMBER</th>\n",
       "        <th>SLOT</th>\n",
       "        <th>BLOCKED</th>\n",
       "        <th>HTTP_RESPONSE_TIME</th>\n",
       "        <th>HTTP_RESPONSE_CODE</th>\n",
       "        <th>PAYMENT_ID_ENCRYPTED</th>\n",
       "        <th>CORRELATION_ID</th>\n",
       "    </tr>\n",
       "    <tr>\n",
       "        <td>6</td>\n",
       "        <td>25348437973</td>\n",
       "        <td>0</td>\n",
       "        <td>0</td>\n",
       "        <td>F</td>\n",
       "        <td>20351004078186965</td>\n",
       "        <td>100</td>\n",
       "        <td>1599280715</td>\n",
       "        <td>1599705075</td>\n",
       "        <td>1599618695</td>\n",
       "        <td>86400</td>\n",
       "        <td>16</td>\n",
       "        <td>16</td>\n",
       "        <td>None</td>\n",
       "        <td>2</td>\n",
       "        <td>https://billing.wzukltd.com/ipn/paypal.php</td>\n",
       "        <td>None</td>\n",
       "        <td>Content-Type: application/x-www-form-urlencoded<br>User-Agent: PayPal IPN ( https://www.paypal.com/ipn )<br></td>\n",
       "        <td>b&#x27;mc_gross=28.00&amp;mp_custom=&amp;mp_currency=USD&amp;protection_eligibility=Eligible&amp;payer_id=86955BFBTUGJU&amp;payment_date=21%3A38%3A17+Sep+04%2C+2020+PDT&amp;mp_id=B-1GP27012SG5635716&amp;payment_status=Completed&amp;charset=windows-1252&amp;first_name=Latrachaui&amp;mp_status=0&amp;mc_fee=0.78&amp;notify_version=3.9&amp;custom=&amp;payer_status=verified&amp;business=websitebuilder-paypal%40endurance.com&amp;quantity=1&amp;verify_sign=A.GF2oArIMOgrTQolyjukfNVpReOAX5Y3upftZr-xOVJ-Y.RXzyxQ6KE&amp;payer_email=wickedhaircollection20%40gmail.com&amp;txn_id=20F39644D39514533&amp;payment_type=instant&amp;payer_business_name=Wicked+Hair+Collection&amp;last_name=Tyler&amp;mp_desc=&amp;receiver_email=websitebuilder-paypal%40endurance.com&amp;payment_fee=0.78&amp;mp_cycle_start=26&amp;shipping_discount=0.00&amp;insurance_amount=0.00&amp;receiver_id=YSUP7PBK2P5PC&amp;txn_type=merch_pmt&amp;item_name=&amp;discount=0.00&amp;mc_currency=USD&amp;item_number=&amp;residence_country=US&amp;shipping_method=Default&amp;transaction_subject=&amp;payment_gross=28.00&amp;ipn_track_id=c31e3ca416da9&#x27;</td>\n",
       "        <td>2</td>\n",
       "        <td>None</td>\n",
       "        <td>1897159474893678550</td>\n",
       "        <td>727</td>\n",
       "        <td>B</td>\n",
       "        <td>20002</td>\n",
       "        <td>None</td>\n",
       "        <td>20F39644D39514533</td>\n",
       "        <td>c31e3ca416da9</td>\n",
       "    </tr>\n",
       "</table>"
      ],
      "text/plain": [
       "[[6,\n",
       "  25348437973,\n",
       "  0,\n",
       "  0,\n",
       "  'F',\n",
       "  20351004078186965,\n",
       "  100,\n",
       "  1599280715,\n",
       "  1599705075,\n",
       "  1599618695,\n",
       "  86400,\n",
       "  16,\n",
       "  16,\n",
       "  None,\n",
       "  2,\n",
       "  'https://billing.wzukltd.com/ipn/paypal.php',\n",
       "  None,\n",
       "  'Content-Type: application/x-www-form-urlencoded\\nUser-Agent: PayPal IPN ( https://www.paypal.com/ipn )\\n',\n",
       "  b'mc_gross=28.00&mp_custom=&mp_currency=USD&protection_eligibility=Eligible&payer_id=86955BFBTUGJU&payment_date=21%3A38%3A17+Sep+04%2C+2020+PDT&mp_id=B-1GP27012SG5635716&payment_status=Completed&charset=windows-1252&first_name=Latrachaui&mp_status=0&mc_fee=0.78&notify_version=3.9&custom=&payer_status=verified&business=websitebuilder-paypal%40endurance.com&quantity=1&verify_sign=A.GF2oArIMOgrTQolyjukfNVpReOAX5Y3upftZr-xOVJ-Y.RXzyxQ6KE&payer_email=wickedhaircollection20%40gmail.com&txn_id=20F39644D39514533&payment_type=instant&payer_business_name=Wicked+Hair+Collection&last_name=Tyler&mp_desc=&receiver_email=websitebuilder-paypal%40endurance.com&payment_fee=0.78&mp_cycle_start=26&shipping_discount=0.00&insurance_amount=0.00&receiver_id=YSUP7PBK2P5PC&txn_type=merch_pmt&item_name=&discount=0.00&mc_currency=USD&item_number=&residence_country=US&shipping_method=Default&transaction_subject=&payment_gross=28.00&ipn_track_id=c31e3ca416da9',\n",
       "  2,\n",
       "  None,\n",
       "  1897159474893678550,\n",
       "  727,\n",
       "  'B',\n",
       "  20002,\n",
       "  None,\n",
       "  '20F39644D39514533',\n",
       "  'c31e3ca416da9']]"
      ]
     },
     "execution_count": 24,
     "metadata": {},
     "output_type": "execute_result"
    },
    {
     "data": {
      "application/vnd.jupyter.widget-view+json": {
       "model_id": "a2acb5fb57f44715b2a6251738b9d2a5",
       "version_major": 2,
       "version_minor": 0
      },
      "text/plain": [
       "HTML(value='')"
      ]
     },
     "metadata": {},
     "output_type": "display_data"
    }
   ],
   "source": [
    "%%oracle -db QNOTIF\n",
    "select * from QTOCDBA.WHTTP_MSG_QUEUE where \n",
    "account_number = '1897159474893678550'\n",
    "and ID = '25348437973' -- decrypted message ID\n",
    "--and PAYMENT_ID_ENCRYPTED = '7JS09569325339604'  -- this is the transaction_id; uncomment this line if you want to search by transaction id\n",
    "--and CORRELATION_ID = 'c31e3ca416da9' --cal_id; uncomment this line if you want to search by cal-id"
   ]
  },
  {
   "cell_type": "markdown",
   "metadata": {},
   "source": [
    "##### Search by Merchant Account Number and the Transaction ID"
   ]
  },
  {
   "cell_type": "code",
   "execution_count": 27,
   "metadata": {},
   "outputs": [
    {
     "data": {
      "application/vnd.jupyter.widget-view+json": {
       "model_id": "d9b897141cf2470499a9ff6e4c5726c8",
       "version_major": 2,
       "version_minor": 0
      },
      "text/plain": [
       "HTML(value='')"
      ]
     },
     "metadata": {},
     "output_type": "display_data"
    },
    {
     "data": {
      "application/vnd.jupyter.widget-view+json": {
       "model_id": "58e77ae0ffc04a5e9735f4668fd8e9b6",
       "version_major": 2,
       "version_minor": 0
      },
      "text/plain": [
       "HTML(value='')"
      ]
     },
     "metadata": {},
     "output_type": "display_data"
    },
    {
     "data": {
      "text/html": [
       "<table>\n",
       "    <tr>\n",
       "        <th>PARTITION_ID</th>\n",
       "        <th>ID</th>\n",
       "        <th>TYPE</th>\n",
       "        <th>FLAGS</th>\n",
       "        <th>STATUS</th>\n",
       "        <th>TARGET</th>\n",
       "        <th>PRIORITY</th>\n",
       "        <th>TIME_CREATED</th>\n",
       "        <th>TIME_SEND</th>\n",
       "        <th>TIME_LAST</th>\n",
       "        <th>RETRY_INTERVAL</th>\n",
       "        <th>RETRY_COUNT</th>\n",
       "        <th>RETRY_MAX</th>\n",
       "        <th>HTTP_TYPE</th>\n",
       "        <th>HTTP_FLAGS</th>\n",
       "        <th>HTTP_URL</th>\n",
       "        <th>HTTP_PROXY</th>\n",
       "        <th>HTTP_HEADERS</th>\n",
       "        <th>HTTP_BODY</th>\n",
       "        <th>HTTP_RESULT</th>\n",
       "        <th>HTTP_REPLY</th>\n",
       "        <th>ACCOUNT_NUMBER</th>\n",
       "        <th>SLOT</th>\n",
       "        <th>BLOCKED</th>\n",
       "        <th>HTTP_RESPONSE_TIME</th>\n",
       "        <th>HTTP_RESPONSE_CODE</th>\n",
       "        <th>PAYMENT_ID_ENCRYPTED</th>\n",
       "        <th>CORRELATION_ID</th>\n",
       "    </tr>\n",
       "    <tr>\n",
       "        <td>6</td>\n",
       "        <td>25348428547</td>\n",
       "        <td>0</td>\n",
       "        <td>0</td>\n",
       "        <td>F</td>\n",
       "        <td>20351018578510715</td>\n",
       "        <td>100</td>\n",
       "        <td>1599280595</td>\n",
       "        <td>1599706883</td>\n",
       "        <td>1599620503</td>\n",
       "        <td>86400</td>\n",
       "        <td>16</td>\n",
       "        <td>16</td>\n",
       "        <td>None</td>\n",
       "        <td>2</td>\n",
       "        <td>https://billing.wzukltd.com/ipn/paypal.php</td>\n",
       "        <td>None</td>\n",
       "        <td>Content-Type: application/x-www-form-urlencoded<br>User-Agent: PayPal IPN ( https://www.paypal.com/ipn )<br></td>\n",
       "        <td>b&#x27;mc_gross=13.80&amp;mp_custom=&amp;mp_currency=USD&amp;protection_eligibility=Eligible&amp;payer_id=BK92QG5V9MFRG&amp;payment_date=21%3A36%3A15+Sep+04%2C+2020+PDT&amp;mp_id=B-0WG205118A308015C&amp;payment_status=Completed&amp;charset=windows-1252&amp;first_name=Stephen&amp;mp_status=0&amp;mc_fee=0.65&amp;notify_version=3.9&amp;custom=&amp;payer_status=verified&amp;business=websitebuilder-paypal%40endurance.com&amp;quantity=1&amp;verify_sign=AJtbBrwSjN45OT2XSb56saV4bE8aAZ3BjxQvC8OertKhq39c-hqM0eZv&amp;payer_email=dispensingoptician%40hotmail.com&amp;txn_id=7JS09569325339604&amp;payment_type=instant&amp;last_name=Bill&amp;mp_desc=&amp;receiver_email=websitebuilder-paypal%40endurance.com&amp;payment_fee=0.65&amp;mp_cycle_start=27&amp;shipping_discount=0.00&amp;insurance_amount=0.00&amp;receiver_id=YSUP7PBK2P5PC&amp;txn_type=merch_pmt&amp;item_name=&amp;discount=0.00&amp;mc_currency=USD&amp;item_number=&amp;residence_country=NZ&amp;shipping_method=Default&amp;transaction_subject=&amp;payment_gross=13.80&amp;ipn_track_id=3380779a829b3&#x27;</td>\n",
       "        <td>2</td>\n",
       "        <td>None</td>\n",
       "        <td>1897159474893678550</td>\n",
       "        <td>149</td>\n",
       "        <td>B</td>\n",
       "        <td>20001</td>\n",
       "        <td>None</td>\n",
       "        <td>7JS09569325339604</td>\n",
       "        <td>3380779a829b3</td>\n",
       "    </tr>\n",
       "</table>"
      ],
      "text/plain": [
       "[[6,\n",
       "  25348428547,\n",
       "  0,\n",
       "  0,\n",
       "  'F',\n",
       "  20351018578510715,\n",
       "  100,\n",
       "  1599280595,\n",
       "  1599706883,\n",
       "  1599620503,\n",
       "  86400,\n",
       "  16,\n",
       "  16,\n",
       "  None,\n",
       "  2,\n",
       "  'https://billing.wzukltd.com/ipn/paypal.php',\n",
       "  None,\n",
       "  'Content-Type: application/x-www-form-urlencoded\\nUser-Agent: PayPal IPN ( https://www.paypal.com/ipn )\\n',\n",
       "  b'mc_gross=13.80&mp_custom=&mp_currency=USD&protection_eligibility=Eligible&payer_id=BK92QG5V9MFRG&payment_date=21%3A36%3A15+Sep+04%2C+2020+PDT&mp_id=B-0WG205118A308015C&payment_status=Completed&charset=windows-1252&first_name=Stephen&mp_status=0&mc_fee=0.65&notify_version=3.9&custom=&payer_status=verified&business=websitebuilder-paypal%40endurance.com&quantity=1&verify_sign=AJtbBrwSjN45OT2XSb56saV4bE8aAZ3BjxQvC8OertKhq39c-hqM0eZv&payer_email=dispensingoptician%40hotmail.com&txn_id=7JS09569325339604&payment_type=instant&last_name=Bill&mp_desc=&receiver_email=websitebuilder-paypal%40endurance.com&payment_fee=0.65&mp_cycle_start=27&shipping_discount=0.00&insurance_amount=0.00&receiver_id=YSUP7PBK2P5PC&txn_type=merch_pmt&item_name=&discount=0.00&mc_currency=USD&item_number=&residence_country=NZ&shipping_method=Default&transaction_subject=&payment_gross=13.80&ipn_track_id=3380779a829b3',\n",
       "  2,\n",
       "  None,\n",
       "  1897159474893678550,\n",
       "  149,\n",
       "  'B',\n",
       "  20001,\n",
       "  None,\n",
       "  '7JS09569325339604',\n",
       "  '3380779a829b3']]"
      ]
     },
     "execution_count": 27,
     "metadata": {},
     "output_type": "execute_result"
    },
    {
     "data": {
      "application/vnd.jupyter.widget-view+json": {
       "model_id": "21e1b8144e9d423999a227a2fc983819",
       "version_major": 2,
       "version_minor": 0
      },
      "text/plain": [
       "HTML(value='')"
      ]
     },
     "metadata": {},
     "output_type": "display_data"
    }
   ],
   "source": [
    "%%oracle -db QNOTIF\n",
    "select * from QTOCDBA.WHTTP_MSG_QUEUE where \n",
    "account_number = '1897159474893678550'\n",
    "and PAYMENT_ID_ENCRYPTED = '7JS09569325339604'"
   ]
  },
  {
   "cell_type": "markdown",
   "metadata": {},
   "source": [
    "##### Search by Merchant Account Number and the CAL Correlation ID"
   ]
  },
  {
   "cell_type": "code",
   "execution_count": 28,
   "metadata": {},
   "outputs": [
    {
     "data": {
      "application/vnd.jupyter.widget-view+json": {
       "model_id": "ebb7baef0fa7448b9776baa5d9f3c6f7",
       "version_major": 2,
       "version_minor": 0
      },
      "text/plain": [
       "HTML(value='')"
      ]
     },
     "metadata": {},
     "output_type": "display_data"
    },
    {
     "data": {
      "application/vnd.jupyter.widget-view+json": {
       "model_id": "113b60f2718748829e0a0ee7c2a19e3b",
       "version_major": 2,
       "version_minor": 0
      },
      "text/plain": [
       "HTML(value='')"
      ]
     },
     "metadata": {},
     "output_type": "display_data"
    },
    {
     "data": {
      "text/html": [
       "<table>\n",
       "    <tr>\n",
       "        <th>PARTITION_ID</th>\n",
       "        <th>ID</th>\n",
       "        <th>TYPE</th>\n",
       "        <th>FLAGS</th>\n",
       "        <th>STATUS</th>\n",
       "        <th>TARGET</th>\n",
       "        <th>PRIORITY</th>\n",
       "        <th>TIME_CREATED</th>\n",
       "        <th>TIME_SEND</th>\n",
       "        <th>TIME_LAST</th>\n",
       "        <th>RETRY_INTERVAL</th>\n",
       "        <th>RETRY_COUNT</th>\n",
       "        <th>RETRY_MAX</th>\n",
       "        <th>HTTP_TYPE</th>\n",
       "        <th>HTTP_FLAGS</th>\n",
       "        <th>HTTP_URL</th>\n",
       "        <th>HTTP_PROXY</th>\n",
       "        <th>HTTP_HEADERS</th>\n",
       "        <th>HTTP_BODY</th>\n",
       "        <th>HTTP_RESULT</th>\n",
       "        <th>HTTP_REPLY</th>\n",
       "        <th>ACCOUNT_NUMBER</th>\n",
       "        <th>SLOT</th>\n",
       "        <th>BLOCKED</th>\n",
       "        <th>HTTP_RESPONSE_TIME</th>\n",
       "        <th>HTTP_RESPONSE_CODE</th>\n",
       "        <th>PAYMENT_ID_ENCRYPTED</th>\n",
       "        <th>CORRELATION_ID</th>\n",
       "    </tr>\n",
       "    <tr>\n",
       "        <td>6</td>\n",
       "        <td>25348437973</td>\n",
       "        <td>0</td>\n",
       "        <td>0</td>\n",
       "        <td>F</td>\n",
       "        <td>20351004078186965</td>\n",
       "        <td>100</td>\n",
       "        <td>1599280715</td>\n",
       "        <td>1599705075</td>\n",
       "        <td>1599618695</td>\n",
       "        <td>86400</td>\n",
       "        <td>16</td>\n",
       "        <td>16</td>\n",
       "        <td>None</td>\n",
       "        <td>2</td>\n",
       "        <td>https://billing.wzukltd.com/ipn/paypal.php</td>\n",
       "        <td>None</td>\n",
       "        <td>Content-Type: application/x-www-form-urlencoded<br>User-Agent: PayPal IPN ( https://www.paypal.com/ipn )<br></td>\n",
       "        <td>b&#x27;mc_gross=28.00&amp;mp_custom=&amp;mp_currency=USD&amp;protection_eligibility=Eligible&amp;payer_id=86955BFBTUGJU&amp;payment_date=21%3A38%3A17+Sep+04%2C+2020+PDT&amp;mp_id=B-1GP27012SG5635716&amp;payment_status=Completed&amp;charset=windows-1252&amp;first_name=Latrachaui&amp;mp_status=0&amp;mc_fee=0.78&amp;notify_version=3.9&amp;custom=&amp;payer_status=verified&amp;business=websitebuilder-paypal%40endurance.com&amp;quantity=1&amp;verify_sign=A.GF2oArIMOgrTQolyjukfNVpReOAX5Y3upftZr-xOVJ-Y.RXzyxQ6KE&amp;payer_email=wickedhaircollection20%40gmail.com&amp;txn_id=20F39644D39514533&amp;payment_type=instant&amp;payer_business_name=Wicked+Hair+Collection&amp;last_name=Tyler&amp;mp_desc=&amp;receiver_email=websitebuilder-paypal%40endurance.com&amp;payment_fee=0.78&amp;mp_cycle_start=26&amp;shipping_discount=0.00&amp;insurance_amount=0.00&amp;receiver_id=YSUP7PBK2P5PC&amp;txn_type=merch_pmt&amp;item_name=&amp;discount=0.00&amp;mc_currency=USD&amp;item_number=&amp;residence_country=US&amp;shipping_method=Default&amp;transaction_subject=&amp;payment_gross=28.00&amp;ipn_track_id=c31e3ca416da9&#x27;</td>\n",
       "        <td>2</td>\n",
       "        <td>None</td>\n",
       "        <td>1897159474893678550</td>\n",
       "        <td>727</td>\n",
       "        <td>B</td>\n",
       "        <td>20002</td>\n",
       "        <td>None</td>\n",
       "        <td>20F39644D39514533</td>\n",
       "        <td>c31e3ca416da9</td>\n",
       "    </tr>\n",
       "</table>"
      ],
      "text/plain": [
       "[[6,\n",
       "  25348437973,\n",
       "  0,\n",
       "  0,\n",
       "  'F',\n",
       "  20351004078186965,\n",
       "  100,\n",
       "  1599280715,\n",
       "  1599705075,\n",
       "  1599618695,\n",
       "  86400,\n",
       "  16,\n",
       "  16,\n",
       "  None,\n",
       "  2,\n",
       "  'https://billing.wzukltd.com/ipn/paypal.php',\n",
       "  None,\n",
       "  'Content-Type: application/x-www-form-urlencoded\\nUser-Agent: PayPal IPN ( https://www.paypal.com/ipn )\\n',\n",
       "  b'mc_gross=28.00&mp_custom=&mp_currency=USD&protection_eligibility=Eligible&payer_id=86955BFBTUGJU&payment_date=21%3A38%3A17+Sep+04%2C+2020+PDT&mp_id=B-1GP27012SG5635716&payment_status=Completed&charset=windows-1252&first_name=Latrachaui&mp_status=0&mc_fee=0.78&notify_version=3.9&custom=&payer_status=verified&business=websitebuilder-paypal%40endurance.com&quantity=1&verify_sign=A.GF2oArIMOgrTQolyjukfNVpReOAX5Y3upftZr-xOVJ-Y.RXzyxQ6KE&payer_email=wickedhaircollection20%40gmail.com&txn_id=20F39644D39514533&payment_type=instant&payer_business_name=Wicked+Hair+Collection&last_name=Tyler&mp_desc=&receiver_email=websitebuilder-paypal%40endurance.com&payment_fee=0.78&mp_cycle_start=26&shipping_discount=0.00&insurance_amount=0.00&receiver_id=YSUP7PBK2P5PC&txn_type=merch_pmt&item_name=&discount=0.00&mc_currency=USD&item_number=&residence_country=US&shipping_method=Default&transaction_subject=&payment_gross=28.00&ipn_track_id=c31e3ca416da9',\n",
       "  2,\n",
       "  None,\n",
       "  1897159474893678550,\n",
       "  727,\n",
       "  'B',\n",
       "  20002,\n",
       "  None,\n",
       "  '20F39644D39514533',\n",
       "  'c31e3ca416da9']]"
      ]
     },
     "execution_count": 28,
     "metadata": {},
     "output_type": "execute_result"
    },
    {
     "data": {
      "application/vnd.jupyter.widget-view+json": {
       "model_id": "c782f8cf55f84867a3a9fa760482e462",
       "version_major": 2,
       "version_minor": 0
      },
      "text/plain": [
       "HTML(value='')"
      ]
     },
     "metadata": {},
     "output_type": "display_data"
    }
   ],
   "source": [
    "%%oracle -db QNOTIF\n",
    "select * from QTOCDBA.WHTTP_MSG_QUEUE where \n",
    "account_number = '1897159474893678550'\n",
    "and CORRELATION_ID = 'c31e3ca416da9'"
   ]
  },
  {
   "cell_type": "markdown",
   "metadata": {},
   "source": [
    "##### A blocked 'B' status in the above result would mean that the IPN notification was not sent, and consequently, you won't see a HTTP_RESPONSE_CODE against it."
   ]
  },
  {
   "cell_type": "markdown",
   "metadata": {},
   "source": [
    "#### The IPN Archived Queue is present in the WHTTP_MSG_QUEUE_ARCHIVE table"
   ]
  },
  {
   "cell_type": "markdown",
   "metadata": {},
   "source": [
    "Let us query the IPN archive table. Both successful, and unsent (blocked; if the merchant's IPN is in 'Disabled' status) IPNs will land here."
   ]
  },
  {
   "cell_type": "markdown",
   "metadata": {},
   "source": [
    "##### Search by Merchant Account Number and the Decrypted Message ID (that we can get from Admin)"
   ]
  },
  {
   "cell_type": "code",
   "execution_count": 25,
   "metadata": {
    "collapsed": false,
    "tags": [
     "injected by THREDDS browser"
    ]
   },
   "outputs": [
    {
     "data": {
      "application/vnd.jupyter.widget-view+json": {
       "model_id": "1f799bb9c5ae42468d2e81e13d418f9e",
       "version_major": 2,
       "version_minor": 0
      },
      "text/plain": [
       "HTML(value='')"
      ]
     },
     "metadata": {},
     "output_type": "display_data"
    },
    {
     "data": {
      "application/vnd.jupyter.widget-view+json": {
       "model_id": "5a7c9a8af05a40f5b18ca7a1107b6275",
       "version_major": 2,
       "version_minor": 0
      },
      "text/plain": [
       "HTML(value='')"
      ]
     },
     "metadata": {},
     "output_type": "display_data"
    },
    {
     "data": {
      "application/vnd.jupyter.widget-view+json": {
       "model_id": "4bb583197f7a4768982d0114c853f07d",
       "version_major": 2,
       "version_minor": 0
      },
      "text/plain": [
       "HTML(value='')"
      ]
     },
     "metadata": {},
     "output_type": "display_data"
    },
    {
     "data": {
      "text/html": [
       "<table>\n",
       "    <tr>\n",
       "        <th>PARTITION_ID</th>\n",
       "        <th>ID</th>\n",
       "        <th>TYPE</th>\n",
       "        <th>FLAGS</th>\n",
       "        <th>STATUS</th>\n",
       "        <th>PRIORITY</th>\n",
       "        <th>TIME_CREATED</th>\n",
       "        <th>TIME_SEND</th>\n",
       "        <th>TIME_LAST</th>\n",
       "        <th>RETRY_INTERVAL</th>\n",
       "        <th>RETRY_COUNT</th>\n",
       "        <th>RETRY_MAX</th>\n",
       "        <th>HTTP_TYPE</th>\n",
       "        <th>HTTP_FLAGS</th>\n",
       "        <th>HTTP_URL</th>\n",
       "        <th>HTTP_PROXY</th>\n",
       "        <th>HTTP_HEADERS</th>\n",
       "        <th>HTTP_BODY</th>\n",
       "        <th>HTTP_RESULT</th>\n",
       "        <th>HTTP_REPLY</th>\n",
       "        <th>ACCOUNT_NUMBER</th>\n",
       "        <th>HTTP_RESPONSE_TIME</th>\n",
       "        <th>HTTP_RESPONSE_CODE</th>\n",
       "        <th>PAYMENT_ID_ENCRYPTED</th>\n",
       "    </tr>\n",
       "    <tr>\n",
       "        <td>None</td>\n",
       "        <td>25348437973</td>\n",
       "        <td>0</td>\n",
       "        <td>0</td>\n",
       "        <td>F</td>\n",
       "        <td>100</td>\n",
       "        <td>1599280715</td>\n",
       "        <td>1599705075</td>\n",
       "        <td>1599618695</td>\n",
       "        <td>86400</td>\n",
       "        <td>16</td>\n",
       "        <td>16</td>\n",
       "        <td>None</td>\n",
       "        <td>2</td>\n",
       "        <td>https://billing.wzukltd.com/ipn/paypal.php</td>\n",
       "        <td>None</td>\n",
       "        <td>Content-Type: application/x-www-form-urlencoded<br>User-Agent: PayPal IPN ( https://www.paypal.com/ipn )<br></td>\n",
       "        <td>b&#x27;mc_gross=28.00&amp;mp_custom=&amp;mp_currency=USD&amp;protection_eligibility=Eligible&amp;payer_id=86955BFBTUGJU&amp;payment_date=21%3A38%3A17+Sep+04%2C+2020+PDT&amp;mp_id=B-1GP27012SG5635716&amp;payment_status=Completed&amp;charset=windows-1252&amp;first_name=Latrachaui&amp;mp_status=0&amp;mc_fee=0.78&amp;notify_version=3.9&amp;custom=&amp;payer_status=verified&amp;business=websitebuilder-paypal%40endurance.com&amp;quantity=1&amp;verify_sign=A.GF2oArIMOgrTQolyjukfNVpReOAX5Y3upftZr-xOVJ-Y.RXzyxQ6KE&amp;payer_email=wickedhaircollection20%40gmail.com&amp;txn_id=20F39644D39514533&amp;payment_type=instant&amp;payer_business_name=Wicked+Hair+Collection&amp;last_name=Tyler&amp;mp_desc=&amp;receiver_email=websitebuilder-paypal%40endurance.com&amp;payment_fee=0.78&amp;mp_cycle_start=26&amp;shipping_discount=0.00&amp;insurance_amount=0.00&amp;receiver_id=YSUP7PBK2P5PC&amp;txn_type=merch_pmt&amp;item_name=&amp;discount=0.00&amp;mc_currency=USD&amp;item_number=&amp;residence_country=US&amp;shipping_method=Default&amp;transaction_subject=&amp;payment_gross=28.00&amp;ipn_track_id=c31e3ca416da9&#x27;</td>\n",
       "        <td>2</td>\n",
       "        <td>None</td>\n",
       "        <td>1897159474893678550</td>\n",
       "        <td>20002</td>\n",
       "        <td>None</td>\n",
       "        <td>20F39644D39514533</td>\n",
       "    </tr>\n",
       "</table>"
      ],
      "text/plain": [
       "[[None,\n",
       "  25348437973,\n",
       "  0,\n",
       "  0,\n",
       "  'F',\n",
       "  100,\n",
       "  1599280715,\n",
       "  1599705075,\n",
       "  1599618695,\n",
       "  86400,\n",
       "  16,\n",
       "  16,\n",
       "  None,\n",
       "  2,\n",
       "  'https://billing.wzukltd.com/ipn/paypal.php',\n",
       "  None,\n",
       "  'Content-Type: application/x-www-form-urlencoded\\nUser-Agent: PayPal IPN ( https://www.paypal.com/ipn )\\n',\n",
       "  b'mc_gross=28.00&mp_custom=&mp_currency=USD&protection_eligibility=Eligible&payer_id=86955BFBTUGJU&payment_date=21%3A38%3A17+Sep+04%2C+2020+PDT&mp_id=B-1GP27012SG5635716&payment_status=Completed&charset=windows-1252&first_name=Latrachaui&mp_status=0&mc_fee=0.78&notify_version=3.9&custom=&payer_status=verified&business=websitebuilder-paypal%40endurance.com&quantity=1&verify_sign=A.GF2oArIMOgrTQolyjukfNVpReOAX5Y3upftZr-xOVJ-Y.RXzyxQ6KE&payer_email=wickedhaircollection20%40gmail.com&txn_id=20F39644D39514533&payment_type=instant&payer_business_name=Wicked+Hair+Collection&last_name=Tyler&mp_desc=&receiver_email=websitebuilder-paypal%40endurance.com&payment_fee=0.78&mp_cycle_start=26&shipping_discount=0.00&insurance_amount=0.00&receiver_id=YSUP7PBK2P5PC&txn_type=merch_pmt&item_name=&discount=0.00&mc_currency=USD&item_number=&residence_country=US&shipping_method=Default&transaction_subject=&payment_gross=28.00&ipn_track_id=c31e3ca416da9',\n",
       "  2,\n",
       "  None,\n",
       "  1897159474893678550,\n",
       "  20002,\n",
       "  None,\n",
       "  '20F39644D39514533']]"
      ]
     },
     "execution_count": 25,
     "metadata": {},
     "output_type": "execute_result"
    },
    {
     "data": {
      "application/vnd.jupyter.widget-view+json": {
       "model_id": "b0f3386a4c1e46e28f207f8f205194bb",
       "version_major": 2,
       "version_minor": 0
      },
      "text/plain": [
       "HTML(value='')"
      ]
     },
     "metadata": {},
     "output_type": "display_data"
    }
   ],
   "source": [
    "%%oracle -db QNOTIF\n",
    "select * from QTOCDBA.WHTTP_MSG_QUEUE_ARCHIVE where account_number = '1897159474893678550' and id = '25348437973'"
   ]
  },
  {
   "cell_type": "markdown",
   "metadata": {},
   "source": [
    "##### Search by Merchant Account Number and the Transaction ID"
   ]
  },
  {
   "cell_type": "code",
   "execution_count": 31,
   "metadata": {},
   "outputs": [
    {
     "data": {
      "application/vnd.jupyter.widget-view+json": {
       "model_id": "ce68701c31664c2fb9a93d5c57f81728",
       "version_major": 2,
       "version_minor": 0
      },
      "text/plain": [
       "HTML(value='')"
      ]
     },
     "metadata": {},
     "output_type": "display_data"
    },
    {
     "data": {
      "application/vnd.jupyter.widget-view+json": {
       "model_id": "e504ff67d7fc4449b230cda857849034",
       "version_major": 2,
       "version_minor": 0
      },
      "text/plain": [
       "HTML(value='')"
      ]
     },
     "metadata": {},
     "output_type": "display_data"
    },
    {
     "data": {
      "application/vnd.jupyter.widget-view+json": {
       "model_id": "dcb3f2fe27d04b9f8cea85973d54e958",
       "version_major": 2,
       "version_minor": 0
      },
      "text/plain": [
       "HTML(value='')"
      ]
     },
     "metadata": {},
     "output_type": "display_data"
    },
    {
     "data": {
      "text/html": [
       "<table>\n",
       "    <tr>\n",
       "        <th>PARTITION_ID</th>\n",
       "        <th>ID</th>\n",
       "        <th>TYPE</th>\n",
       "        <th>FLAGS</th>\n",
       "        <th>STATUS</th>\n",
       "        <th>PRIORITY</th>\n",
       "        <th>TIME_CREATED</th>\n",
       "        <th>TIME_SEND</th>\n",
       "        <th>TIME_LAST</th>\n",
       "        <th>RETRY_INTERVAL</th>\n",
       "        <th>RETRY_COUNT</th>\n",
       "        <th>RETRY_MAX</th>\n",
       "        <th>HTTP_TYPE</th>\n",
       "        <th>HTTP_FLAGS</th>\n",
       "        <th>HTTP_URL</th>\n",
       "        <th>HTTP_PROXY</th>\n",
       "        <th>HTTP_HEADERS</th>\n",
       "        <th>HTTP_BODY</th>\n",
       "        <th>HTTP_RESULT</th>\n",
       "        <th>HTTP_REPLY</th>\n",
       "        <th>ACCOUNT_NUMBER</th>\n",
       "        <th>HTTP_RESPONSE_TIME</th>\n",
       "        <th>HTTP_RESPONSE_CODE</th>\n",
       "        <th>PAYMENT_ID_ENCRYPTED</th>\n",
       "    </tr>\n",
       "    <tr>\n",
       "        <td>None</td>\n",
       "        <td>25348437973</td>\n",
       "        <td>0</td>\n",
       "        <td>0</td>\n",
       "        <td>F</td>\n",
       "        <td>100</td>\n",
       "        <td>1599280715</td>\n",
       "        <td>1599705075</td>\n",
       "        <td>1599618695</td>\n",
       "        <td>86400</td>\n",
       "        <td>16</td>\n",
       "        <td>16</td>\n",
       "        <td>None</td>\n",
       "        <td>2</td>\n",
       "        <td>https://billing.wzukltd.com/ipn/paypal.php</td>\n",
       "        <td>None</td>\n",
       "        <td>Content-Type: application/x-www-form-urlencoded<br>User-Agent: PayPal IPN ( https://www.paypal.com/ipn )<br></td>\n",
       "        <td>b&#x27;mc_gross=28.00&amp;mp_custom=&amp;mp_currency=USD&amp;protection_eligibility=Eligible&amp;payer_id=86955BFBTUGJU&amp;payment_date=21%3A38%3A17+Sep+04%2C+2020+PDT&amp;mp_id=B-1GP27012SG5635716&amp;payment_status=Completed&amp;charset=windows-1252&amp;first_name=Latrachaui&amp;mp_status=0&amp;mc_fee=0.78&amp;notify_version=3.9&amp;custom=&amp;payer_status=verified&amp;business=websitebuilder-paypal%40endurance.com&amp;quantity=1&amp;verify_sign=A.GF2oArIMOgrTQolyjukfNVpReOAX5Y3upftZr-xOVJ-Y.RXzyxQ6KE&amp;payer_email=wickedhaircollection20%40gmail.com&amp;txn_id=20F39644D39514533&amp;payment_type=instant&amp;payer_business_name=Wicked+Hair+Collection&amp;last_name=Tyler&amp;mp_desc=&amp;receiver_email=websitebuilder-paypal%40endurance.com&amp;payment_fee=0.78&amp;mp_cycle_start=26&amp;shipping_discount=0.00&amp;insurance_amount=0.00&amp;receiver_id=YSUP7PBK2P5PC&amp;txn_type=merch_pmt&amp;item_name=&amp;discount=0.00&amp;mc_currency=USD&amp;item_number=&amp;residence_country=US&amp;shipping_method=Default&amp;transaction_subject=&amp;payment_gross=28.00&amp;ipn_track_id=c31e3ca416da9&#x27;</td>\n",
       "        <td>2</td>\n",
       "        <td>None</td>\n",
       "        <td>1897159474893678550</td>\n",
       "        <td>20002</td>\n",
       "        <td>None</td>\n",
       "        <td>20F39644D39514533</td>\n",
       "    </tr>\n",
       "</table>"
      ],
      "text/plain": [
       "[[None,\n",
       "  25348437973,\n",
       "  0,\n",
       "  0,\n",
       "  'F',\n",
       "  100,\n",
       "  1599280715,\n",
       "  1599705075,\n",
       "  1599618695,\n",
       "  86400,\n",
       "  16,\n",
       "  16,\n",
       "  None,\n",
       "  2,\n",
       "  'https://billing.wzukltd.com/ipn/paypal.php',\n",
       "  None,\n",
       "  'Content-Type: application/x-www-form-urlencoded\\nUser-Agent: PayPal IPN ( https://www.paypal.com/ipn )\\n',\n",
       "  b'mc_gross=28.00&mp_custom=&mp_currency=USD&protection_eligibility=Eligible&payer_id=86955BFBTUGJU&payment_date=21%3A38%3A17+Sep+04%2C+2020+PDT&mp_id=B-1GP27012SG5635716&payment_status=Completed&charset=windows-1252&first_name=Latrachaui&mp_status=0&mc_fee=0.78&notify_version=3.9&custom=&payer_status=verified&business=websitebuilder-paypal%40endurance.com&quantity=1&verify_sign=A.GF2oArIMOgrTQolyjukfNVpReOAX5Y3upftZr-xOVJ-Y.RXzyxQ6KE&payer_email=wickedhaircollection20%40gmail.com&txn_id=20F39644D39514533&payment_type=instant&payer_business_name=Wicked+Hair+Collection&last_name=Tyler&mp_desc=&receiver_email=websitebuilder-paypal%40endurance.com&payment_fee=0.78&mp_cycle_start=26&shipping_discount=0.00&insurance_amount=0.00&receiver_id=YSUP7PBK2P5PC&txn_type=merch_pmt&item_name=&discount=0.00&mc_currency=USD&item_number=&residence_country=US&shipping_method=Default&transaction_subject=&payment_gross=28.00&ipn_track_id=c31e3ca416da9',\n",
       "  2,\n",
       "  None,\n",
       "  1897159474893678550,\n",
       "  20002,\n",
       "  None,\n",
       "  '20F39644D39514533']]"
      ]
     },
     "execution_count": 31,
     "metadata": {},
     "output_type": "execute_result"
    },
    {
     "data": {
      "application/vnd.jupyter.widget-view+json": {
       "model_id": "8cb1ddfb64db41c18e66eb623fa893b2",
       "version_major": 2,
       "version_minor": 0
      },
      "text/plain": [
       "HTML(value='')"
      ]
     },
     "metadata": {},
     "output_type": "display_data"
    }
   ],
   "source": [
    "%%oracle -db QNOTIF\n",
    "select * from QTOCDBA.WHTTP_MSG_QUEUE_ARCHIVE where account_number = '1897159474893678550' and PAYMENT_ID_ENCRYPTED = '20F39644D39514533'"
   ]
  },
  {
   "cell_type": "markdown",
   "metadata": {},
   "source": [
    "##### If you want to take a look at the CAL results, look at the IPN message and find the ipn_track_id = c31e3ca416da9, which can be used to query the CAL logs.  \n",
    "\n",
    "##### When you're querying CAL logs, look for 'queueserv-http-qtoc' as it will contain the logs for the IPN delivery. "
   ]
  },
  {
   "cell_type": "markdown",
   "metadata": {},
   "source": [
    "For More information, visit: https://engineering.paypalcorp.com/confluence/display/UNP/IPN+Documentation <br>\n",
    "Also, https://engineering.paypalcorp.com/confluence/pages/viewpage.action?pageId=209752827"
   ]
  }
 ],
 "metadata": {
  "kernelspec": {
   "display_name": "Oracle",
   "language": "",
   "name": "oraclekernel"
  },
  "language_info": {
   "codemirror_mode": "text/x-sql",
   "mimetype": "text/x-sql",
   "name": "SQL",
   "pygments_lexer": "r"
  }
 },
 "nbformat": 4,
 "nbformat_minor": 4
}